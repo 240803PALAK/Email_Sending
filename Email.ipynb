{
 "cells": [
  {
   "cell_type": "code",
   "execution_count": null,
   "id": "4015610c-2c6d-45bd-a9b8-ad45b417dc74",
   "metadata": {},
   "outputs": [],
   "source": [
    "import smtplib as s\n",
    "ob=s.SMTP('smtp.gmail.com',587)\n",
    "ob.ehlo()\n",
    "ob.starttls()\n",
    "ob.login('your@gmail.com','password')\n",
    "subject=\"test python\"\n",
    "body=\"I love Python\"\n",
    "massage=\"subject:{}\\n\\n{}\".format(subject,body)\n",
    "listadd=['sender@gmail.com','sender@gmail.com']\n",
    "ob.sendmail('palakarahandale@gmail.com',listadd,massage)\n",
    "print('Send mail')\n",
    "ob.quit()"
   ]
  },
  {
   "cell_type": "code",
   "execution_count": null,
   "id": "d280f4b5-bf2e-4c7b-854b-99b9340312a9",
   "metadata": {},
   "outputs": [],
   "source": []
  }
 ],
 "metadata": {
  "kernelspec": {
   "display_name": "Python 3 (ipykernel)",
   "language": "python",
   "name": "python3"
  },
  "language_info": {
   "codemirror_mode": {
    "name": "ipython",
    "version": 3
   },
   "file_extension": ".py",
   "mimetype": "text/x-python",
   "name": "python",
   "nbconvert_exporter": "python",
   "pygments_lexer": "ipython3",
   "version": "3.12.0"
  }
 },
 "nbformat": 4,
 "nbformat_minor": 5
}
